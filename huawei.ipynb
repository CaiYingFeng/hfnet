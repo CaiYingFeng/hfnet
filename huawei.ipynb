{
 "cells": [
  {
   "cell_type": "code",
   "execution_count": 24,
   "metadata": {},
   "outputs": [],
   "source": [
    "import numpy as np\n",
    "import logging\n",
    "from pathlib import Path\n",
    "import pickle\n",
    "import sys\n",
    "from tqdm import tqdm\n",
    "from hfnet.datasets import get_dataset\n",
    "from hfnet.datasets.colmap_utils.read_model import read_model\n",
    "from hfnet.utils.tools import Timer"
   ]
  },
  {
   "cell_type": "code",
   "execution_count": 25,
   "metadata": {},
   "outputs": [],
   "source": [
    "model_name1='adjust_model_newimage'\n",
    "cameras1, images1, points1 = read_model(\n",
    "            path=Path('/media/autolab/disk_3T/caiyingfeng/map/front_left/', model_name1).as_posix(), ext='.bin')"
   ]
  },
  {
   "cell_type": "code",
   "execution_count": 28,
   "metadata": {},
   "outputs": [
    {
     "name": "stdout",
     "output_type": "stream",
     "text": [
      "13823\n",
      "Image(id=13574, qvec=array([-0.41481754, -0.43522355,  0.63294375, -0.48773875]), tvec=array([-4.96147906,  1.06080541, -5.28657924]), camera_id=1, name='1594466630.0387191772.jpg', xys=array([[1393.77819824,  105.93641663],\n",
      "       [1385.43493652,  108.54415131],\n",
      "       [1377.54541016,  110.55206299],\n",
      "       ...,\n",
      "       [ 677.20056152,  429.62002563],\n",
      "       [1078.90869141,  522.20233154],\n",
      "       [ 966.58349609,  779.7578125 ]]), point3D_ids=array([     -1,      -1,      -1, ...,      -1, 1610244, 1609930]))\n",
      "Image(id=13576, qvec=array([-0.44711145, -0.43788028,  0.6166168 , -0.47763577]), tvec=array([-0.02800036,  0.79097097,  0.18988511]), camera_id=13576, name='1594465334.9418430328.jpg', xys=array([[ 573.65045166,   14.22099972],\n",
      "       [ 787.08392334,   18.37800598],\n",
      "       [ 777.39746094,   26.46412086],\n",
      "       ...,\n",
      "       [ 253.97875977,  768.0100708 ],\n",
      "       [1776.64501953,  849.97546387],\n",
      "       [1873.06921387,  774.62774658]]), point3D_ids=array([-1, -1, -1, ..., -1, -1, -1]))\n",
      "Image(id=13853, qvec=array([-0.41300227, -0.43334263,  0.63430045, -0.48918937]), tvec=array([-4.81934224,  1.04365631, -5.24846476]), camera_id=13853, name='1594466629.9497489929.jpg', xys=array([[1275.93237305,  129.56286621],\n",
      "       [1212.52514648,  150.74723816],\n",
      "       [1904.8894043 ,  194.27442932],\n",
      "       ...,\n",
      "       [ 685.07788086,  438.83071899],\n",
      "       [1084.10083008,  521.54284668],\n",
      "       [ 979.17016602,  775.36584473]]), point3D_ids=array([     -1,      -1,      -1, ...,      -1, 1610244, 1608812]))\n",
      "None\n"
     ]
    }
   ],
   "source": [
    "print(len(images1))\n",
    "print(images1[13574])\n",
    "\n",
    "print(images1[13576])\n",
    "print(images1[13853])\n",
    "\n",
    "print(images1.get(13854))\n"
   ]
  },
  {
   "cell_type": "code",
   "execution_count": 30,
   "metadata": {},
   "outputs": [],
   "source": [
    "\n",
    "#从image.bin里面提取位姿time tx ty tz qx qy qz qw\n",
    "images=images1\n",
    "i_path=Path('/media/autolab/disk_3T/caiyingfeng',f'stamped_traj_estimate.txt')\n",
    "for i in range(13576,13854):\n",
    "    if(images1.get(i)==None):\n",
    "        continue \n",
    "    else:\n",
    "        \n",
    "        with open(i_path, 'a') as f:\n",
    "            line=images[i].name.__str__().strip(\".jpg\")+' '          \n",
    "                \n",
    "            line+=images[i].tvec[0].__str__()+' '\n",
    "            line+=images[i].tvec[1].__str__()+' '\n",
    "            line+=images[i].tvec[2].__str__()+' ' \n",
    "                \n",
    "                \n",
    "            line+=images[i].qvec[1].__str__()+' '\n",
    "            line+=images[i].qvec[2].__str__()+' '\n",
    "            line+=images[i].qvec[3].__str__()+' '\n",
    "            line+=images[i].qvec[0].__str__()+' '\n",
    "                \n",
    "                \n",
    "        \n",
    "            f.write(line+'\\n')"
   ]
  },
  {
   "cell_type": "code",
   "execution_count": 5,
   "metadata": {},
   "outputs": [],
   "source": [
    "\n",
    "#从image.bin里面提取位姿time tx ty tz qx qy qz qw\n",
    "images=images1\n",
    "i_path=Path('/media/autolab/disk_3T/caiyingfeng',f'stamped_traj_estimate.txt')\n",
    "for i in range(13576,len(images)+1):\n",
    "             \n",
    "    with open(i_path, 'a') as f:\n",
    "        line=images[i].name.__str__().strip(\".jpg\")+' '          \n",
    "                \n",
    "        line+=images[i].tvec[0].__str__()+' '\n",
    "        line+=images[i].tvec[1].__str__()+' '\n",
    "        line+=images[i].tvec[2].__str__()+' ' \n",
    "                \n",
    "                \n",
    "        line+=images[i].qvec[1].__str__()+' '\n",
    "        line+=images[i].qvec[2].__str__()+' '\n",
    "        line+=images[i].qvec[3].__str__()+' '\n",
    "        line+=images[i].qvec[0].__str__()+' '\n",
    "                \n",
    "                \n",
    "        \n",
    "        f.write(line+'\\n')"
   ]
  },
  {
   "cell_type": "code",
   "execution_count": 9,
   "metadata": {},
   "outputs": [],
   "source": [
    "#从image.txt里提取time tx ty tz qx qy qz qw\n",
    "import os\n",
    "from pathlib import Path\n",
    "f = open(\"/media/autolab/disk_3T/caiyingfeng/map/front_center/model/images.txt\",\"r\")#id,qw,qx,qy,qz,tx,ty,tz,cid,name\n",
    "f_dof=list(f)\n",
    "f.close\n",
    "i_path=Path('/media/autolab/disk_3T/caiyingfeng',f'stamped_groundtruth.txt')#time tx ty tz qx qy qz qw\n",
    "for i in range(0,len(f_dof)):   \n",
    "    if (i+1)%2==0:#因为images.txt有一行空格\n",
    "        continue\n",
    "    str_dof=f_dof[i].split(' ',-1)\n",
    "    with open(i_path, 'a') as f:\n",
    "\n",
    "\n",
    "        line=str_dof[9].strip(\".jpg\")+\" \"\n",
    "        line+=str_dof[5].__str__()+' '                                 \n",
    "        line+=str_dof[6].__str__()+' '\n",
    "        line+=str_dof[7].__str__()+' '\n",
    "        \n",
    "        line+=str_dof[2].__str__()+' ' \n",
    "        line+=str_dof[3].__str__()+' '   \n",
    "        line+=str_dof[4].__str__()+' '\n",
    "        line+=str_dof[1].__str__()+' '\n",
    "        #print(line)\n",
    "\n",
    "\n",
    "        #break\n",
    " \n",
    "        f.write(line+'\\n')\n"
   ]
  },
  {
   "cell_type": "code",
   "execution_count": 3,
   "metadata": {},
   "outputs": [],
   "source": [
    "\n",
    "#从hfnet的pose里面提取位姿\n",
    "#输入：name qw,qx,qy,qz,tx,ty,tz\n",
    "#输出：time tx ty tz qx qy qz qw\n",
    "i_path=Path('/media/autolab/disk_3T/caiyingfeng',f'stamped_traj_estimate.txt')\n",
    "f=open('/media/autolab/disk_3T/caiyingfeng/localization/out/eval/aachen/front_center_0809_poses.txt')\n",
    "f_dof=list(f)\n",
    "f.close\n",
    "for i in range(0,len(f_dof)):\n",
    "    str_dof=f_dof[i].split(' ',-1)\n",
    "             \n",
    "    with open(i_path, 'a') as f:\n",
    "        line=str_dof[0].strip(\".jpg\")+' '          \n",
    "                \n",
    "        line+=str_dof[5]+' '\n",
    "        line+=str_dof[6]+' '\n",
    "        line+=str_dof[7].strip(\"\\n\")+' ' \n",
    "                \n",
    "                \n",
    "        line+=str_dof[2]+' '\n",
    "        line+=str_dof[3]+' '\n",
    "        line+=str_dof[4]+' '\n",
    "        line+=str_dof[1]+' '\n",
    "                \n",
    "                \n",
    "        \n",
    "        f.write(line+'\\n')"
   ]
  },
  {
   "cell_type": "code",
   "execution_count": 12,
   "metadata": {
    "scrolled": false
   },
   "outputs": [
    {
     "name": "stdout",
     "output_type": "stream",
     "text": [
      "2932\n",
      "Image(id=2757, qvec=array([-0.17154536, -0.12215091,  0.71238745, -0.66944414]), tvec=array([-0.25330125, -0.28513511, -0.38090481]), camera_id=2757, name='1594465335.0374720097.jpg', xys=array([[1617.00549316,    6.96318007],\n",
      "       [1617.00549316,    6.96318007],\n",
      "       [1550.46789551,   52.16049576],\n",
      "       ...,\n",
      "       [1726.92089844,  724.62457275],\n",
      "       [ 516.88061523,  875.28546143],\n",
      "       [1720.41247559,  619.2701416 ]]), point3D_ids=array([-1, -1, -1, ..., -1, -1, -1]))\n",
      "Image(id=2758, qvec=array([-0.17258242, -0.12177097,  0.71149339, -0.6701972 ]), tvec=array([-0.27819697, -0.25555074, -1.82165478]), camera_id=2758, name='1594465337.7389135361.jpg', xys=array([[ 499.46304321,   13.39984989],\n",
      "       [ 702.80523682,   17.38598061],\n",
      "       [ 769.46240234,   88.67746735],\n",
      "       ...,\n",
      "       [1326.73095703,  641.58557129],\n",
      "       [1176.98522949,  879.62670898],\n",
      "       [ 433.18115234,  896.56719971]]), point3D_ids=array([-1, -1, -1, ..., -1, -1, -1]))\n",
      "Image(id=2760, qvec=array([-0.17475989, -0.12547522,  0.71255012, -0.66782279]), tvec=array([ -0.51222695,   0.04382315, -11.20453896]), camera_id=2760, name='1594465343.0958850384.jpg', xys=array([[ 832.91943359,  206.40226746],\n",
      "       [ 832.91943359,  206.40226746],\n",
      "       [1341.34631348,  277.80715942],\n",
      "       ...,\n",
      "       [1606.78381348,  680.43743896],\n",
      "       [1606.78381348,  680.43743896],\n",
      "       [1165.53344727,  794.66217041]]), point3D_ids=array([-1, -1, -1, ..., -1, -1, -1]))\n",
      "Image(id=3216, qvec=array([-0.1417115 , -0.08876163,  0.71672032, -0.67701641]), tvec=array([ 0.34028708, -0.21615647, -5.31760846]), camera_id=3216, name='1594466629.6602852345.jpg', xys=array([[ 876.7277832 ,  156.55456543],\n",
      "       [1289.50720215,  233.47102356],\n",
      "       [1523.765625  ,  241.46893311],\n",
      "       ...,\n",
      "       [1170.41162109,  387.2852478 ],\n",
      "       [ 758.2098999 ,  850.21411133],\n",
      "       [  77.40516663,  562.50140381]]), point3D_ids=array([-1, -1, -1, ..., -1, -1, -1]))\n"
     ]
    }
   ],
   "source": [
    "print(len(images1))\n",
    "\n",
    "#0.9386251210404182 -0.02966373863798963 0.3435957452711908 0.006701387424439715 -1.2050194943192853 -0.019203581495209725 1.352528907704564"
   ]
  },
  {
   "cell_type": "code",
   "execution_count": 11,
   "metadata": {},
   "outputs": [
    {
     "name": "stdout",
     "output_type": "stream",
     "text": [
      "Image(id=2701, qvec=array([ 0.08842989, -0.04337982,  0.99424356,  0.04216741]), tvec=array([1.80646946, 0.11627069, 0.07017183]), camera_id=234, name='00000630.jpg', xys=array([[ 528.32019043,    3.21429777],\n",
      "       [ 833.78900146,    6.63190794],\n",
      "       [ 844.72753906,    6.48652029],\n",
      "       ...,\n",
      "       [ 934.49865723,  936.23101807],\n",
      "       [1526.02246094,  836.57092285],\n",
      "       [ 521.54089355,  535.42108154]]), point3D_ids=array([    -1,     -1,     -1, ...,     -1,     -1, 302187]))\n"
     ]
    }
   ],
   "source": [
    "print(images1[2701])\n",
    "# print(images1[2])\n",
    "\n",
    "# print(images1[2466])\n",
    "# print(images1[2467])\n",
    "# for i in range(1,2469):\n",
    "#     if i==1057:\n",
    "#         continue\n",
    "#     print(i,\"  \",images1[i].name,images1[i].camera_id)"
   ]
  },
  {
   "cell_type": "code",
   "execution_count": 16,
   "metadata": {},
   "outputs": [],
   "source": [
    "images=images1\n",
    "i_path=Path('/home/autolab/caiyingfeng/huawei/map/2468',f'images2468.txt')\n",
    "for i in range(1,2469):\n",
    "#     for j in range(2470,2702):\n",
    "#         s1=images[j].name\n",
    "#         s1=int(s1[3:-4])\n",
    "#         if s1/30==i:\n",
    "            if i==1057:\n",
    "                continue\n",
    "    \n",
    "            j=i\n",
    "        \n",
    "            with open(i_path, 'a') as f:\n",
    "                line=images[j].name.__str__()+' '          \n",
    "                line+=images[j].qvec[0].__str__()+' '\n",
    "                line+=images[j].qvec[1].__str__()+' '\n",
    "                line+=images[j].qvec[2].__str__()+' '\n",
    "                line+=images[j].qvec[3].__str__()+' '\n",
    "                line+=images[j].tvec[0].__str__()+' '\n",
    "                line+=images[j].tvec[1].__str__()+' '\n",
    "                line+=images[j].tvec[2].__str__()+' ' \n",
    "                \n",
    "                \n",
    "        \n",
    "                f.write(line+'\\n')"
   ]
  },
  {
   "cell_type": "code",
   "execution_count": 23,
   "metadata": {},
   "outputs": [],
   "source": [
    "images=images1\n",
    "i_path=Path('/home/autolab/caiyingfeng/huawei/map/2468',f'images2468.txt')\n",
    "\n",
    "for i in range(1,2469):\n",
    "    \n",
    "    with open(i_path, 'a') as f:\n",
    "        if i==1057:\n",
    "            line='1057 0.9386251210404182 -0.02966373863798963 0.3435957452711908 0.006701387424439715 -1.2050194943192853 -0.019203581495209725 1.352528907704564 1 369.jpg'\n",
    "        else:\n",
    "            \n",
    "\n",
    "            line=i.__str__()+' '          \n",
    "            line+=images[i].qvec[0].__str__()+' '\n",
    "            line+=images[i].qvec[1].__str__()+' '\n",
    "            line+=images[i].qvec[2].__str__()+' '\n",
    "            line+=images[i].qvec[3].__str__()+' '\n",
    "            line+=images[i].tvec[0].__str__()+' '\n",
    "            line+=images[i].tvec[1].__str__()+' '\n",
    "            line+=images[i].tvec[2].__str__()+' ' \n",
    "            line+=images[i].camera_id.__str__()+' '\n",
    "            line+=images[i].name.__str__()+' '\n",
    "        \n",
    "        f.write(line+'\\n'+'\\n')"
   ]
  },
  {
   "cell_type": "code",
   "execution_count": 5,
   "metadata": {},
   "outputs": [],
   "source": [
    "model_name2='sparse'\n",
    "cameras2, images2, points2= read_model(\n",
    "            path=Path('/home/autolab/caiyingfeng/localization', model_name2,'0').as_posix(), ext='.bin')"
   ]
  },
  {
   "cell_type": "code",
   "execution_count": 24,
   "metadata": {},
   "outputs": [],
   "source": [
    "images=images1\n",
    "i_path=Path('/home/autolab/caiyingfeng/localization',f'images11111.txt')\n",
    "for i in range(2470,2469):  \n",
    "    if i==1057:\n",
    "        continue\n",
    "    with open(i_path, 'a') as f:\n",
    "        line=i.__str__()+' '          \n",
    "        line+=images[i].qvec[0].__str__()+' '\n",
    "        line+=images[i].qvec[1].__str__()+' '\n",
    "        line+=images[i].qvec[2].__str__()+' '\n",
    "        line+=images[i].qvec[3].__str__()+' '\n",
    "        line+=images[i].tvec[0].__str__()+' '\n",
    "        line+=images[i].tvec[1].__str__()+' '\n",
    "        line+=images[i].tvec[2].__str__()+' ' \n",
    "        line+=images[i].camera_id.__str__()+' '\n",
    "        line+=images[i].name.__str__()+' '\n",
    "        \n",
    "        f.write(line+'\\n'+'\\n')"
   ]
  },
  {
   "cell_type": "code",
   "execution_count": 52,
   "metadata": {},
   "outputs": [
    {
     "name": "stdout",
     "output_type": "stream",
     "text": [
      "2467\n"
     ]
    }
   ],
   "source": [
    "print(len(images2))"
   ]
  },
  {
   "cell_type": "code",
   "execution_count": 30,
   "metadata": {},
   "outputs": [
    {
     "name": "stdout",
     "output_type": "stream",
     "text": [
      "235\n",
      "Camera(id=1, model='PINHOLE', width=1920, height=1080, params=array([1796.22867091, 1830.18491726,  960.        ,  540.        ]))\n",
      "Camera(id=2, model='SIMPLE_RADIAL', width=1920, height=1080, params=array([ 1.80197669e+03,  9.60000000e+02,  5.40000000e+02, -2.88083537e-02]))\n",
      "Camera(id=3, model='SIMPLE_RADIAL', width=1920, height=1080, params=array([1.80846813e+03, 9.60000000e+02, 5.40000000e+02, 2.26295683e-02]))\n"
     ]
    }
   ],
   "source": [
    "print(len(cameras1))\n",
    "print(cameras1[1])\n",
    "print(cameras1[2])\n",
    "print(cameras1[3])"
   ]
  },
  {
   "cell_type": "code",
   "execution_count": 33,
   "metadata": {},
   "outputs": [
    {
     "name": "stdout",
     "output_type": "stream",
     "text": [
      "Camera(id=1, model='PINHOLE', width=1920, height=1080, params=array([1796.22867091, 1830.18491726,  960.        ,  540.        ]))\n",
      "Camera(id=2, model='SIMPLE_RADIAL', width=1920, height=1080, params=array([ 1.80197669e+03,  9.60000000e+02,  5.40000000e+02, -2.88083537e-02]))\n",
      "Camera(id=3, model='SIMPLE_RADIAL', width=1920, height=1080, params=array([1.80846813e+03, 9.60000000e+02, 5.40000000e+02, 2.26295683e-02]))\n",
      "Camera(id=4, model='SIMPLE_RADIAL', width=1920, height=1080, params=array([ 1.81123632e+03,  9.60000000e+02,  5.40000000e+02, -8.52339014e-03]))\n",
      "Camera(id=5, model='SIMPLE_RADIAL', width=1920, height=1080, params=array([ 1.80535159e+03,  9.60000000e+02,  5.40000000e+02, -1.14566543e-03]))\n",
      "Camera(id=6, model='SIMPLE_RADIAL', width=1920, height=1080, params=array([ 1.83605076e+03,  9.60000000e+02,  5.40000000e+02, -2.39382641e-02]))\n",
      "Camera(id=7, model='SIMPLE_RADIAL', width=1920, height=1080, params=array([ 1.80878955e+03,  9.60000000e+02,  5.40000000e+02, -1.73879667e-02]))\n",
      "Camera(id=8, model='SIMPLE_RADIAL', width=1920, height=1080, params=array([ 1.82917859e+03,  9.60000000e+02,  5.40000000e+02, -5.04346037e-03]))\n",
      "Camera(id=9, model='SIMPLE_RADIAL', width=1920, height=1080, params=array([ 1.81301431e+03,  9.60000000e+02,  5.40000000e+02, -3.34974686e-02]))\n",
      "Camera(id=10, model='SIMPLE_RADIAL', width=1920, height=1080, params=array([1.79923855e+03, 9.60000000e+02, 5.40000000e+02, 5.06974664e-03]))\n",
      "Camera(id=11, model='SIMPLE_RADIAL', width=1920, height=1080, params=array([ 1.80668937e+03,  9.60000000e+02,  5.40000000e+02, -8.17380347e-03]))\n",
      "Camera(id=12, model='SIMPLE_RADIAL', width=1920, height=1080, params=array([ 1.80875808e+03,  9.60000000e+02,  5.40000000e+02, -5.38859920e-04]))\n",
      "Camera(id=13, model='SIMPLE_RADIAL', width=1920, height=1080, params=array([ 1.80293616e+03,  9.60000000e+02,  5.40000000e+02, -3.20085806e-02]))\n",
      "Camera(id=14, model='SIMPLE_RADIAL', width=1920, height=1080, params=array([ 1.81450999e+03,  9.60000000e+02,  5.40000000e+02, -3.29166274e-03]))\n",
      "Camera(id=15, model='SIMPLE_RADIAL', width=1920, height=1080, params=array([1.78980243e+03, 9.60000000e+02, 5.40000000e+02, 6.14731026e-03]))\n",
      "Camera(id=16, model='SIMPLE_RADIAL', width=1920, height=1080, params=array([ 1.81143444e+03,  9.60000000e+02,  5.40000000e+02, -2.91342824e-02]))\n",
      "Camera(id=17, model='SIMPLE_RADIAL', width=1920, height=1080, params=array([ 1.81427798e+03,  9.60000000e+02,  5.40000000e+02, -1.89079586e-02]))\n",
      "Camera(id=18, model='SIMPLE_RADIAL', width=1920, height=1080, params=array([ 1.82711778e+03,  9.60000000e+02,  5.40000000e+02, -7.98447846e-03]))\n",
      "Camera(id=19, model='SIMPLE_RADIAL', width=1920, height=1080, params=array([ 1.84395417e+03,  9.60000000e+02,  5.40000000e+02, -4.30986341e-02]))\n"
     ]
    }
   ],
   "source": [
    "for i in range(1,20):\n",
    "    print(cameras1[i])"
   ]
  },
  {
   "cell_type": "code",
   "execution_count": 13,
   "metadata": {},
   "outputs": [],
   "source": [
    "images=images1\n",
    "i_path=Path('/home/autolab/caiyingfeng/localization',f'images2222.txt')\n",
    "for i in range(1,233):\n",
    "    for j in range(2470,2702):\n",
    "        s1=images[j].name\n",
    "        s1=int(s1[3:-4])\n",
    "        if s1/30==i:\n",
    "            \n",
    "        \n",
    "            with open(i_path, 'a') as f:\n",
    "                line=i.__str__()+' '          \n",
    "                line+=images[j].qvec[0].__str__()+' '\n",
    "                line+=images[j].qvec[1].__str__()+' '\n",
    "                line+=images[j].qvec[2].__str__()+' '\n",
    "                line+=images[j].qvec[3].__str__()+' '\n",
    "                line+=images[j].tvec[0].__str__()+' '\n",
    "                line+=images[j].tvec[1].__str__()+' '\n",
    "                line+=images[j].tvec[2].__str__()+' ' \n",
    "                line+=images[j].camera_id.__str__()+' '\n",
    "                line+=images[j].name.__str__()+' '\n",
    "        \n",
    "                f.write(line+'\\n'+'\\n')"
   ]
  },
  {
   "cell_type": "code",
   "execution_count": 32,
   "metadata": {},
   "outputs": [],
   "source": [
    "camera=cameras1\n",
    "c_path=Path('/home/autolab/caiyingfeng/localization',f'cameras.txt')\n",
    "for i in range(1,2):\n",
    "    with open(c_path, 'a') as f:\n",
    "        line=i.__str__()+' '          \n",
    "        line+=camera[i].model.__str__()+' '\n",
    "        line+=camera[i].width.__str__()+' '\n",
    "        line+=camera[i].height.__str__()+' '\n",
    "        line+=camera[i].params[0].__str__()+' '\n",
    "        line+=camera[i].params[1].__str__()+' '\n",
    "        line+=camera[i].params[2].__str__()+' '\n",
    "        line+=camera[i].params[3].__str__()+' '\n",
    "\n",
    "        \n",
    "        f.write(line+'\\n')"
   ]
  },
  {
   "cell_type": "code",
   "execution_count": 46,
   "metadata": {},
   "outputs": [],
   "source": [
    "hw_path=Path('/home/autolab/caiyingfeng/localization',f'hw.txt')\n",
    "k=0\n",
    "for i in range(1,233):\n",
    "    with open(hw_path, 'a') as f:\n",
    "        \n",
    "        k+=30\n",
    "        line=str(k).zfill(8)+'.jpg'+' ' \n",
    "               \n",
    "        f.write(line+'\\n')"
   ]
  },
  {
   "cell_type": "code",
   "execution_count": 31,
   "metadata": {},
   "outputs": [
    {
     "name": "stdout",
     "output_type": "stream",
     "text": [
      "1.290208333297154\n"
     ]
    }
   ],
   "source": [
    "x=images1[1056].tvec[2]\n",
    "y=images1[1058].tvec[2]\n",
    "z=(x+y)/2\n",
    "print(z)"
   ]
  },
  {
   "cell_type": "code",
   "execution_count": 4,
   "metadata": {},
   "outputs": [],
   "source": [
    "c_path=Path('/home/autolab/caiyingfeng/huawei/map-232',f'cameras.txt')\n",
    "for i in range(1,233):\n",
    "    with open(c_path, 'a') as f:\n",
    "        line=i.__str__()+' ' \n",
    "        line+='PINHOLE 1920 1080 1796.2286709112473 1830.1849172622094 960.0 540.0'\n",
    "        f.write(line+'\\n')"
   ]
  },
  {
   "cell_type": "code",
   "execution_count": 51,
   "metadata": {},
   "outputs": [],
   "source": [
    "import sqlite3\n",
    "p=Path('/home/autolab/caiyingfeng//huawei/map/2468',f'dbimages.txt')\n",
    "images=images1\n",
    "i_path=Path('/home/autolab/caiyingfeng/huawei/map/2468',f'images.txt')\n",
    "conn = sqlite3.connect(\"/home/autolab/caiyingfeng/huawei/map/2468/database.db\")\n",
    "cursor = conn.cursor()\n",
    "sql = \"\"\"select * from images\"\"\"\n",
    "cursor.execute(sql)\n",
    "result = cursor.fetchall()\n",
    "for i in range(0,2468):\n",
    "    if result[i][1]=='369.jpg':\n",
    "        with open(i_path, 'a') as f:\n",
    "            line='1057 0.9386251210404182 -0.02966373863798963 0.3435957452711908 0.006701387424439715 -1.2050194943192853 -0.019203581495209725 1.352528907704564 1 396.jpg'\n",
    "            f.write(line+'\\n'+'\\n')\n",
    "        continue\n",
    "        \n",
    "    \n",
    "    for j in range(1,2469):\n",
    "        if j==1057:\n",
    "            continue\n",
    "        if images1[j].name==result[i][1]:\n",
    "            with open(i_path, 'a') as f:\n",
    "                k=i+1\n",
    "                line=k.__str__()+' '          \n",
    "                line+=images[j].qvec[0].__str__()+' '\n",
    "                line+=images[j].qvec[1].__str__()+' '\n",
    "                line+=images[j].qvec[2].__str__()+' '\n",
    "                line+=images[j].qvec[3].__str__()+' '\n",
    "                line+=images[j].tvec[0].__str__()+' '\n",
    "                line+=images[j].tvec[1].__str__()+' '\n",
    "                line+=images[j].tvec[2].__str__()+' ' \n",
    "                line+=images[j].camera_id.__str__()+' '\n",
    "                line+=images[j].name.__str__()+' ' \n",
    "                \n",
    "                \n",
    "        \n",
    "                f.write(line+'\\n'+'\\n')\n",
    "            \n",
    "    \n",
    "#print(result[0])\n",
    "\n",
    "# for i in range(0,2468):\n",
    "#     with open(p, 'a') as f:\n",
    "\n",
    "#         line=result[i][0]\n",
    "               \n",
    "#         f.write(line+'\\n')\n",
    "\n",
    "conn.close()\n"
   ]
  },
  {
   "cell_type": "code",
   "execution_count": 48,
   "metadata": {},
   "outputs": [
    {
     "name": "stdout",
     "output_type": "stream",
     "text": [
      "90.jpg\n"
     ]
    }
   ],
   "source": [
    "import sqlite3\n",
    "conn = sqlite3.connect(\"/home/autolab/caiyingfeng/huawei/map/2468/database.db\")\n",
    "cursor = conn.cursor()\n",
    "#sql = \"\"\"select * from sqlite_sequence\"\"\"\n",
    "sql = \"\"\"select * from images\"\"\"\n",
    "#sql = \"\"\"select name from sqlite_master where type='table' order by name\"\"\"\n",
    "cursor.execute(sql)\n",
    "result = cursor.fetchall()\n",
    "print(result[2461][1])\n",
    "conn.close()"
   ]
  },
  {
   "cell_type": "code",
   "execution_count": 47,
   "metadata": {},
   "outputs": [
    {
     "name": "stdout",
     "output_type": "stream",
     "text": [
      "('984.jpg',)\n"
     ]
    }
   ],
   "source": [
    "import sqlite3\n",
    "conn = sqlite3.connect(\"/home/autolab/caiyingfeng/huawei/map/2468/database.db\")\n",
    "cursor = conn.cursor()\n",
    "#sql = \"\"\"select * from sqlite_sequence\"\"\"\n",
    "sql = \"\"\"select name from images\"\"\"\n",
    "#sql = \"\"\"select name from sqlite_master where type='table' order by name\"\"\"\n",
    "cursor.execute(sql)\n",
    "result = cursor.fetchall()\n",
    "print(result[2461])\n",
    "conn.close()"
   ]
  },
  {
   "cell_type": "code",
   "execution_count": null,
   "metadata": {},
   "outputs": [],
   "source": []
  }
 ],
 "metadata": {
  "kernelspec": {
   "display_name": "Python 3",
   "language": "python",
   "name": "python3"
  },
  "language_info": {
   "codemirror_mode": {
    "name": "ipython",
    "version": 3
   },
   "file_extension": ".py",
   "mimetype": "text/x-python",
   "name": "python",
   "nbconvert_exporter": "python",
   "pygments_lexer": "ipython3",
   "version": "3.6.10"
  }
 },
 "nbformat": 4,
 "nbformat_minor": 4
}
